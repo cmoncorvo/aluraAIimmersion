{
  "nbformat": 4,
  "nbformat_minor": 0,
  "metadata": {
    "colab": {
      "provenance": [],
      "authorship_tag": "ABX9TyMGMwacvWqajIx5vY5gKlmW"
    },
    "kernelspec": {
      "name": "python3",
      "display_name": "Python 3"
    },
    "language_info": {
      "name": "python"
    }
  },
  "cells": [
    {
      "cell_type": "markdown",
      "source": [
        "Instalando e importando o SDK do Google"
      ],
      "metadata": {
        "id": "d_WqrEH9LwP4"
      }
    },
    {
      "cell_type": "code",
      "execution_count": 6,
      "metadata": {
        "id": "H-2ir5oi9__B"
      },
      "outputs": [],
      "source": [
        "# Install\n",
        "!pip install -q -U google-generativeai"
      ]
    },
    {
      "cell_type": "code",
      "source": [
        "# Import the Python SDK\n",
        "import google.generativeai as genai\n",
        "from google.colab import userdata\n",
        "api_key = userdata.get('SECRET_KEY')\n",
        "genai.configure(api_key=api_key)"
      ],
      "metadata": {
        "id": "oCvmYdquL6tA"
      },
      "execution_count": 2,
      "outputs": []
    },
    {
      "cell_type": "markdown",
      "source": [
        "Listar os modelos disponíveis"
      ],
      "metadata": {
        "id": "28CCA_c8MRsb"
      }
    },
    {
      "cell_type": "code",
      "source": [
        "# por list_models ser um método tem que colocar o abre/fecha parênteses no final\n",
        "for m in genai.list_models():\n",
        "  if 'generateContent' in m.supported_generation_methods:\n",
        "    print(m.name)"
      ],
      "metadata": {
        "colab": {
          "base_uri": "https://localhost:8080/",
          "height": 138
        },
        "id": "Dw0OjyGNMC6h",
        "outputId": "36c946f8-a2ef-43b0-82cc-6590e25ac705"
      },
      "execution_count": 3,
      "outputs": [
        {
          "output_type": "stream",
          "name": "stdout",
          "text": [
            "models/gemini-1.0-pro\n",
            "models/gemini-1.0-pro-001\n",
            "models/gemini-1.0-pro-latest\n",
            "models/gemini-1.0-pro-vision-latest\n",
            "models/gemini-1.5-pro-latest\n",
            "models/gemini-pro\n",
            "models/gemini-pro-vision\n"
          ]
        }
      ]
    },
    {
      "cell_type": "markdown",
      "source": [
        "Configurações para gerar o prompt"
      ],
      "metadata": {
        "id": "nc7zRgZgQnpj"
      }
    },
    {
      "cell_type": "code",
      "source": [
        "generation_config = {\n",
        "    \"candidate_count\": 1,\n",
        "    \"temperature\": 0.5,\n",
        "}"
      ],
      "metadata": {
        "id": "W3WmpOmxQNvt"
      },
      "execution_count": 5,
      "outputs": []
    },
    {
      "cell_type": "markdown",
      "source": [
        "Configurações de segurança"
      ],
      "metadata": {
        "id": "plE3L-ArQrvd"
      }
    },
    {
      "cell_type": "code",
      "source": [
        "safety_settings = {\n",
        "    \"harassment\": \"block_none\",\n",
        "    \"hate\": \"block_none\",\n",
        "    \"sexual\": \"block_none\",\n",
        "    \"dangerous\": \"block_none\"\n",
        "}"
      ],
      "metadata": {
        "id": "FW-mgwl8QlcM"
      },
      "execution_count": 21,
      "outputs": []
    },
    {
      "cell_type": "markdown",
      "source": [
        "Inicializando o modelo"
      ],
      "metadata": {
        "id": "c2jNMkp3RtGS"
      }
    },
    {
      "cell_type": "code",
      "source": [
        "model = genai.GenerativeModel(model_name=\"gemini-1.0-pro\",\n",
        "                              generation_config=generation_config,\n",
        "                              safety_settings=safety_settings)"
      ],
      "metadata": {
        "id": "SwjSsE9tRvHs"
      },
      "execution_count": 22,
      "outputs": []
    },
    {
      "cell_type": "markdown",
      "source": [
        "Gerar resposta do prompt"
      ],
      "metadata": {
        "id": "BQOjPZqKXMVG"
      }
    },
    {
      "cell_type": "code",
      "source": [
        "response = model.generate_content(\"prompt here\")\n",
        "print(response.text)"
      ],
      "metadata": {
        "id": "u9x4DyaoXJr_"
      },
      "execution_count": null,
      "outputs": []
    },
    {
      "cell_type": "code",
      "source": [
        "chat = model.start_chat(history=[])"
      ],
      "metadata": {
        "id": "lSNe8qkkXd8O"
      },
      "execution_count": 24,
      "outputs": []
    },
    {
      "cell_type": "markdown",
      "source": [],
      "metadata": {
        "id": "aLodUQN4YDMJ"
      }
    },
    {
      "cell_type": "code",
      "source": [
        "prompt = input(\"Esperando prompt:\")\n",
        "\n",
        "while prompt != \"fim\":\n",
        "  response = chat.send_message(prompt)\n",
        "  print(f\"Resposta: {response.text}\")\n",
        "  prompt = input(\"Esperando prompt:\")"
      ],
      "metadata": {
        "id": "ALj3k-4hXxLm"
      },
      "execution_count": null,
      "outputs": []
    },
    {
      "cell_type": "markdown",
      "source": [
        "Melhorando a visualização do chat"
      ],
      "metadata": {
        "id": "ZKFHFQDimvVv"
      }
    },
    {
      "cell_type": "code",
      "source": [
        "#Melhorando a visualização\n",
        "#Código disponível em https://ai.google.dev/tutorials/python_quickstart#import_packages\n",
        "import textwrap\n",
        "\n",
        "from IPython.display import display\n",
        "from IPython.display import Markdown\n",
        "\n",
        "def to_markdown(text):\n",
        "  text = text.replace('`', '\\`')\n",
        "  return Markdown(textwrap.indent(text, '> ', predicate=lambda _: True))\n",
        "\n",
        "#Imprimindo o histórico\n",
        "for message in chat.history:\n",
        "  display(to_markdown(f'**{message.role}**: {message.parts[0].text}'))\n",
        "print('-------------')"
      ],
      "metadata": {
        "id": "uMLRKQCNc_Lm"
      },
      "execution_count": null,
      "outputs": []
    }
  ]
}